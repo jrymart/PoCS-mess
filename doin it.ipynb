{
 "cells": [
  {
   "cell_type": "code",
   "execution_count": 44,
   "metadata": {},
   "outputs": [],
   "source": [
    "b"
   ]
  },
  {
   "cell_type": "code",
   "execution_count": 2,
   "metadata": {},
   "outputs": [],
   "source": [
    "years = [y for y in range(2004,2019)]"
   ]
  },
  {
   "cell_type": "code",
   "execution_count": 3,
   "metadata": {},
   "outputs": [],
   "source": [
    "indexurl = 'https://en.wikipedia.org/wiki/Wikipedia:Arbitration/Index/Cases/%d'"
   ]
  },
  {
   "cell_type": "code",
   "execution_count": 4,
   "metadata": {},
   "outputs": [],
   "source": [
    "soup = BeautifulSoup(urllib.request.urlopen(indexurl % years[0]).read(), 'html.parser')"
   ]
  },
  {
   "cell_type": "code",
   "execution_count": 5,
   "metadata": {},
   "outputs": [],
   "source": [
    "soup2 = BeautifulSoup(urllib.request.urlopen(indexurl % 2016).read(), 'html.parser')"
   ]
  },
  {
   "cell_type": "code",
   "execution_count": 6,
   "metadata": {},
   "outputs": [
    {
     "ename": "SyntaxError",
     "evalue": "invalid syntax (<ipython-input-6-3cd374277f34>, line 1)",
     "output_type": "error",
     "traceback": [
      "\u001b[1;36m  File \u001b[1;32m\"<ipython-input-6-3cd374277f34>\"\u001b[1;36m, line \u001b[1;32m1\u001b[0m\n\u001b[1;33m    def get_list()\u001b[0m\n\u001b[1;37m                  ^\u001b[0m\n\u001b[1;31mSyntaxError\u001b[0m\u001b[1;31m:\u001b[0m invalid syntax\n"
     ]
    }
   ],
   "source": [
    "def get_list()"
   ]
  },
  {
   "cell_type": "code",
   "execution_count": 7,
   "metadata": {
    "collapsed": true
   },
   "outputs": [
    {
     "name": "stdout",
     "output_type": "stream",
     "text": [
      "boop\n",
      "boop\n",
      "boop\n",
      "boop\n",
      "boop\n",
      "<class 'bs4.element.Tag'>\n",
      "Six cases\n",
      "<class 'list'>\n",
      "blip\n",
      "VeryVerily\n",
      "<class 'list'>\n",
      "blip\n",
      "Turrican and VeryVerily\n",
      "<class 'list'>\n",
      "blip\n",
      "Shorne and Fred Bauder\n",
      "<class 'list'>\n",
      "blip\n",
      "Gzornenplatz, Kevin Baas, Shorne, VeryVerily\n",
      "<class 'list'>\n",
      "blip\n",
      "Arminius\n",
      "<class 'list'>\n",
      "blip\n",
      "Reithy\n",
      "<class 'list'>\n",
      "<class 'bs4.element.Tag'>\n",
      "Eight cases\n",
      "<class 'list'>\n",
      "blip\n",
      "Cantus vs. Guanaco\n",
      "<class 'list'>\n",
      "blip\n",
      "Irismeister 3\n",
      "<class 'list'>\n",
      "blip\n",
      "Avala\n",
      "<class 'list'>\n",
      "blip\n",
      "Rex071404 2\n",
      "<class 'list'>\n",
      "blip\n",
      "Lance6wins\n",
      "<class 'list'>\n",
      "blip\n",
      "Rex071404\n",
      "<class 'list'>\n",
      "blip\n",
      "Jimmyvanthach\n",
      "<class 'list'>\n",
      "blip\n",
      "RickK vs. Guanaco\n",
      "<class 'list'>\n",
      "<class 'bs4.element.Tag'>\n",
      "Four cases\n",
      "<class 'list'>\n",
      "blip\n",
      "RK\n",
      "<class 'list'>\n",
      "blip\n",
      "Orthogonal\n",
      "<class 'list'>\n",
      "blip\n",
      "JRR Trollkien\n",
      "<class 'list'>\n",
      "blip\n",
      "Kenneth Alan\n",
      "<class 'list'>\n",
      "<class 'bs4.element.Tag'>\n",
      "Four cases\n",
      "<class 'list'>\n",
      "blip\n",
      "K1\n",
      "<class 'list'>\n",
      "blip\n",
      "ChrisO and Levzur\n",
      "<class 'list'>\n",
      "blip\n",
      "User:PolishPoliticians\n",
      "<class 'list'>\n",
      "blip\n",
      "Lyndon LaRouche\n",
      "<class 'list'>\n",
      "<class 'bs4.element.Tag'>\n",
      "Four cases\n",
      "<class 'list'>\n",
      "blip\n",
      "User:Guanaco versus User:Lir\n",
      "<class 'list'>\n",
      "blip\n",
      "Mr-Natural-Health\n",
      "<class 'list'>\n",
      "blip\n",
      "Lir\n",
      "<class 'list'>\n",
      "blip\n",
      "Cantus\n",
      "<class 'list'>\n",
      "<class 'bs4.element.Tag'>\n",
      "Two cases\n",
      "<class 'list'>\n",
      "blip\n",
      "Mav v. 168\n",
      "<class 'list'>\n",
      "blip\n",
      "Irismeister 2\n",
      "<class 'list'>\n",
      "<class 'bs4.element.Tag'>\n",
      "Three cases\n",
      "<class 'list'>\n",
      "blip\n",
      "Irismeister\n",
      "<class 'list'>\n",
      "blip\n",
      "Wik\n",
      "<class 'list'>\n",
      "blip\n",
      "Plautus satire vs Raul654\n",
      "<class 'list'>\n",
      "boop\n",
      "boop\n",
      "boop\n",
      "boop\n",
      "boop\n",
      "boop\n",
      "boop\n",
      "boop\n",
      "boop\n",
      "boop\n",
      "boop\n",
      "boop\n",
      "boop\n"
     ]
    }
   ],
   "source": [
    "for ul in soup.find_all('ul'):\n",
    "    items = [i for i in ul.children]\n",
    "    try:\n",
    "        if str(items[0].string).split(' ')[1] == 'cases':\n",
    "            print(type(ul))\n",
    "            for d in ul.children:\n",
    "                try:\n",
    "                    desc = d.contents\n",
    "                    print(desc[0].string)\n",
    "                    print(type(desc))\n",
    "                except AttributeError:\n",
    "                    print(\"blip\")\n",
    "                #print(type(d))\n",
    "                #print('\\t%s' % d)\n",
    "    except IndexError:\n",
    "        print(\"boop\")\n",
    "    except TypeError:\n",
    "        print(\"bing\")\n",
    "    #print(ul)\n",
    "    #print(type(ul.string))\n",
    "    #print([c for c in ul.children][0])\n",
    "    #print(type(str(items[0].string)))\n",
    "    #type(ul)\n",
    "    #[i for i in ul.find_all('li')][0]"
   ]
  },
  {
   "cell_type": "code",
   "execution_count": 8,
   "metadata": {
    "collapsed": true
   },
   "outputs": [
    {
     "name": "stdout",
     "output_type": "stream",
     "text": [
      "boop\n",
      "boop\n",
      "boop\n",
      "boop\n",
      "boop\n",
      "boop\n",
      "boop\n",
      "boop\n",
      "boop\n",
      "boop\n",
      "boop\n",
      "boop\n",
      "boop\n",
      "boop\n",
      "boop\n",
      "boop\n",
      "boop\n",
      "boop\n"
     ]
    }
   ],
   "source": [
    "months = []\n",
    "for ul in soup.find_all('ul'):\n",
    "    items = [i for i in ul.children]\n",
    "    try:\n",
    "        if str(items[0].string).split(' ')[1] == 'cases':\n",
    "            months.append(ul.contents)\n",
    "    except IndexError:\n",
    "        print(\"boop\")\n",
    "    except TypeError:\n",
    "        print(\"bing\")\n",
    "    #print(ul)\n",
    "    #print(type(ul.string))\n",
    "    #print([c for c in ul.children][0])\n",
    "    #print(type(str(items[0].string)))\n",
    "    #type(ul)\n",
    "    #[i for i in ul.find_all('li')][0]"
   ]
  },
  {
   "cell_type": "code",
   "execution_count": 9,
   "metadata": {},
   "outputs": [],
   "source": [
    "months = [month[1:] for month in months]"
   ]
  },
  {
   "cell_type": "code",
   "execution_count": 10,
   "metadata": {
    "scrolled": true
   },
   "outputs": [
    {
     "data": {
      "text/plain": [
       "['\\n',\n",
       " <li><i><a href=\"/wiki/Wikipedia:Requests_for_arbitration/VeryVerily\" title=\"Wikipedia:Requests for arbitration/VeryVerily\">VeryVerily</a></i> - <b>Closed</b> on 27 Dec 2004, in light of <i><a href=\"/wiki/Wikipedia:Requests_for_arbitration/Gzornenplatz,_Kevin_Baas,_Shorne,_VeryVerily\" title=\"Wikipedia:Requests for arbitration/Gzornenplatz, Kevin Baas, Shorne, VeryVerily\">Gzornenplatz, Kevin Baas, Shorne, VeryVerily</a></i>.</li>,\n",
       " '\\n',\n",
       " <li><i><a href=\"/wiki/Wikipedia:Requests_for_arbitration/Turrican_and_VeryVerily\" title=\"Wikipedia:Requests for arbitration/Turrican and VeryVerily\">Turrican and VeryVerily</a></i> - <b>Closed</b> on 27 Dec 2004, in light of <i><a href=\"/wiki/Wikipedia:Requests_for_arbitration/Gzornenplatz,_Kevin_Baas,_Shorne,_VeryVerily\" title=\"Wikipedia:Requests for arbitration/Gzornenplatz, Kevin Baas, Shorne, VeryVerily\">Gzornenplatz, Kevin Baas, Shorne, VeryVerily</a></i>.</li>,\n",
       " '\\n',\n",
       " <li><i><a href=\"/wiki/Wikipedia:Requests_for_arbitration/Shorne_and_Fred_Bauder\" title=\"Wikipedia:Requests for arbitration/Shorne and Fred Bauder\">Shorne and Fred Bauder</a></i> - <b>Closed</b> on 27 Dec 2004, in light of <i><a href=\"/wiki/Wikipedia:Requests_for_arbitration/Gzornenplatz,_Kevin_Baas,_Shorne,_VeryVerily\" title=\"Wikipedia:Requests for arbitration/Gzornenplatz, Kevin Baas, Shorne, VeryVerily\">Gzornenplatz, Kevin Baas, Shorne, VeryVerily</a></i>. Subject to reactivation should Shorne return.</li>,\n",
       " '\\n',\n",
       " <li><i><a href=\"/wiki/Wikipedia:Requests_for_arbitration/Gzornenplatz,_Kevin_Baas,_Shorne,_VeryVerily\" title=\"Wikipedia:Requests for arbitration/Gzornenplatz, Kevin Baas, Shorne, VeryVerily\">Gzornenplatz, Kevin Baas, Shorne, VeryVerily</a></i> - <b>Decided</b> on 22 December, 2004. Shorne and VeryVerily banned for two weeks, Gzornenplatz and Ruy Lopez for one. Gzornenplatz, Shorne, and VV placed on revert parole. Gzornenplatz, Shorne, and VV limited to 1 revert per articles per 24 hours, and required to discuss all edits.</li>,\n",
       " '\\n',\n",
       " <li><i><a href=\"/wiki/Wikipedia:Requests_for_arbitration/Arminius\" title=\"Wikipedia:Requests for arbitration/Arminius\">Arminius</a></i> <b>Closed without action taken</b> on 16 December, 2004, after all participants requested the matter dropped.</li>,\n",
       " '\\n',\n",
       " <li><i><a href=\"/wiki/Wikipedia:Requests_for_arbitration/Reithy\" title=\"Wikipedia:Requests for arbitration/Reithy\">Reithy</a></i> <b>Closed without action taken</b> on 3 December, 2004, temporary injunction expires that date.</li>]"
      ]
     },
     "execution_count": 10,
     "metadata": {},
     "output_type": "execute_result"
    }
   ],
   "source": [
    "months[0]"
   ]
  },
  {
   "cell_type": "code",
   "execution_count": 11,
   "metadata": {},
   "outputs": [
    {
     "ename": "AttributeError",
     "evalue": "'NavigableString' object has no attribute 'contents'",
     "output_type": "error",
     "traceback": [
      "\u001b[1;31m---------------------------------------------------------------------------\u001b[0m",
      "\u001b[1;31mAttributeError\u001b[0m                            Traceback (most recent call last)",
      "\u001b[1;32m<ipython-input-11-ffd56158715a>\u001b[0m in \u001b[0;36m<module>\u001b[1;34m()\u001b[0m\n\u001b[1;32m----> 1\u001b[1;33m \u001b[1;33m[\u001b[0m\u001b[0ms\u001b[0m \u001b[1;32mfor\u001b[0m \u001b[0ms\u001b[0m \u001b[1;32min\u001b[0m \u001b[0msoup\u001b[0m\u001b[1;33m.\u001b[0m\u001b[0mfind_all\u001b[0m\u001b[1;33m(\u001b[0m\u001b[1;34m'h2'\u001b[0m\u001b[1;33m)\u001b[0m\u001b[1;33m]\u001b[0m\u001b[1;33m[\u001b[0m\u001b[1;36m2\u001b[0m\u001b[1;33m]\u001b[0m\u001b[1;33m.\u001b[0m\u001b[0mnext_sibling\u001b[0m\u001b[1;33m.\u001b[0m\u001b[0mnext_sibling\u001b[0m\u001b[1;33m.\u001b[0m\u001b[0mcontents\u001b[0m\u001b[1;33m[\u001b[0m\u001b[1;36m1\u001b[0m\u001b[1;33m]\u001b[0m\u001b[1;33m.\u001b[0m\u001b[0mcontents\u001b[0m\u001b[1;33m\u001b[0m\u001b[0m\n\u001b[0m",
      "\u001b[1;32m~\\Anaconda3\\lib\\site-packages\\bs4\\element.py\u001b[0m in \u001b[0;36m__getattr__\u001b[1;34m(self, attr)\u001b[0m\n\u001b[0;32m    735\u001b[0m             raise AttributeError(\n\u001b[0;32m    736\u001b[0m                 \"'%s' object has no attribute '%s'\" % (\n\u001b[1;32m--> 737\u001b[1;33m                     self.__class__.__name__, attr))\n\u001b[0m\u001b[0;32m    738\u001b[0m \u001b[1;33m\u001b[0m\u001b[0m\n\u001b[0;32m    739\u001b[0m     \u001b[1;32mdef\u001b[0m \u001b[0moutput_ready\u001b[0m\u001b[1;33m(\u001b[0m\u001b[0mself\u001b[0m\u001b[1;33m,\u001b[0m \u001b[0mformatter\u001b[0m\u001b[1;33m=\u001b[0m\u001b[1;34m\"minimal\"\u001b[0m\u001b[1;33m)\u001b[0m\u001b[1;33m:\u001b[0m\u001b[1;33m\u001b[0m\u001b[0m\n",
      "\u001b[1;31mAttributeError\u001b[0m: 'NavigableString' object has no attribute 'contents'"
     ]
    }
   ],
   "source": [
    "[s for s in soup.find_all('h2')][2].next_sibling.next_sibling.contents[1].contents"
   ]
  },
  {
   "cell_type": "code",
   "execution_count": 12,
   "metadata": {},
   "outputs": [],
   "source": [
    "def get_year_and_cases(soup):\n",
    "    #this works under the assumption that the year is under an <h1>\n",
    "    for h in soup.find_all('h1'):\n",
    "        strings = [s for s in h.strings]\n",
    "        if re.search('^\\d\\d\\d\\d$', strings[0]) is not None:\n",
    "            year = int(strings[0])\n",
    "            nums = re.findall('\\d+\\ ', h.next_sibling.next_sibling.string)\n",
    "            cases = sum([int(n) for n in nums])\n",
    "    return (year, cases)\n",
    "            "
   ]
  },
  {
   "cell_type": "code",
   "execution_count": 41,
   "metadata": {},
   "outputs": [],
   "source": [
    "MONTHS = {'January'  : 1, \n",
    "          'February' : 2, \n",
    "          'March'    : 3, \n",
    "          'April'    : 4, \n",
    "          'May'      : 5,\n",
    "          'June'     : 6, \n",
    "          'July'     : 7, \n",
    "          'August'   : 8, \n",
    "          'September': 9, \n",
    "          'October'  : 10, \n",
    "          'November' : 11, \n",
    "          'December': 12}\n",
    "def get_months(soup):\n",
    "    months = {}\n",
    "    for h in soup.find_all('h2'):\n",
    "        strings = [s for s in h.strings]\n",
    "        if strings[0] in MONTHS.keys():\n",
    "            month = str(strings[0])\n",
    "            if h.next_sibling.next_sibling.name == 'ul':\n",
    "                cases = []\n",
    "                for child in h.next_sibling.next_sibling.children:\n",
    "                    try: \n",
    "                        if len(child.contents)> 1:\n",
    "                            cases.append(child)\n",
    "                        else:\n",
    "                            print(\"passed on %s\" % [s for s in child.strings][0])\n",
    "                    except AttributeError:\n",
    "                        pass\n",
    "            months[MONTHS[month]] = cases\n",
    "    return months\n",
    "\n",
    "def get_cases(months):\n",
    "    return [item for sublist in months.values() for item in sublist]\n",
    "def get_name_and_url(case):\n",
    "    name = [s for s in case.strings][0]\n",
    "    url = [link.get('href') for link in case.find_all('a')][0]\n",
    "    full_url = \"https://en/wikipedia.org%s\" % url\n",
    "    return (name,url)\n",
    "\n",
    "def get_case_info(soup):\n",
    "    months = {}\n",
    "    for h in soup.find_all('h2'):\n",
    "        strings = [s for s in h.strings]\n",
    "        if strings[0] in MONTHS.keys():\n",
    "            month = str(strings[0])\n",
    "            if h.next_sibling.next_sibling.name == 'ul':\n",
    "                cases = []\n",
    "                for child in h.next_sibling.next_sibling.children:\n",
    "                    try: \n",
    "                        if len(child.contents)> 1:\n",
    "                            cases.append(get_name_and_url(child))\n",
    "                        else:\n",
    "                            print(\"passed on %s\" % [s for s in child.strings][0])\n",
    "                    except AttributeError:\n",
    "                        pass\n",
    "            months[MONTHS[month]] = cases\n",
    "    return months"
   ]
  },
  {
   "cell_type": "code",
   "execution_count": 31,
   "metadata": {},
   "outputs": [
    {
     "data": {
      "text/plain": [
       "(2004, 35)"
      ]
     },
     "execution_count": 31,
     "metadata": {},
     "output_type": "execute_result"
    }
   ],
   "source": [
    "get_year_and_cases(soup)"
   ]
  },
  {
   "cell_type": "code",
   "execution_count": 32,
   "metadata": {},
   "outputs": [
    {
     "name": "stdout",
     "output_type": "stream",
     "text": [
      "passed on Six cases\n",
      "passed on Eight cases\n",
      "passed on Four cases\n",
      "passed on Four cases\n",
      "passed on Four cases\n",
      "passed on Two cases\n",
      "passed on One case\n",
      "passed on One case\n",
      "passed on One case\n",
      "passed on Three cases\n",
      "passed on One case\n"
     ]
    }
   ],
   "source": [
    "months = get_months(soup)"
   ]
  },
  {
   "cell_type": "code",
   "execution_count": 33,
   "metadata": {},
   "outputs": [],
   "source": [
    "cases = [item for sublist in months.values() for item in sublist]"
   ]
  },
  {
   "cell_type": "code",
   "execution_count": 34,
   "metadata": {
    "scrolled": true
   },
   "outputs": [
    {
     "data": {
      "text/plain": [
       "['VeryVerily',\n",
       " 'Turrican and VeryVerily',\n",
       " 'Shorne and Fred Bauder',\n",
       " 'Gzornenplatz, Kevin Baas, Shorne, VeryVerily',\n",
       " 'Arminius',\n",
       " 'Reithy',\n",
       " 'Cantus vs. Guanaco',\n",
       " 'Irismeister 3',\n",
       " 'Avala',\n",
       " 'Rex071404 2',\n",
       " 'Lance6wins',\n",
       " 'Rex071404',\n",
       " 'Jimmyvanthach',\n",
       " 'RickK vs. Guanaco',\n",
       " 'RK',\n",
       " 'Orthogonal',\n",
       " 'JRR Trollkien',\n",
       " 'Kenneth Alan',\n",
       " 'K1',\n",
       " 'ChrisO and Levzur',\n",
       " 'User:PolishPoliticians',\n",
       " 'Lyndon LaRouche',\n",
       " 'User:Guanaco versus User:Lir',\n",
       " 'Mr-Natural-Health',\n",
       " 'Lir',\n",
       " 'Cantus',\n",
       " 'Mav v. 168',\n",
       " 'Irismeister 2',\n",
       " 'Wik2',\n",
       " 'Paul Vogel',\n",
       " 'Anthony DiPierro',\n",
       " 'Irismeister',\n",
       " 'Wik',\n",
       " 'Plautus satire vs Raul654',\n",
       " 'Theresa knott vs. Mr-Natural-Health']"
      ]
     },
     "execution_count": 34,
     "metadata": {},
     "output_type": "execute_result"
    }
   ],
   "source": [
    "[[a for a in s.strings][0] for s in cases]"
   ]
  },
  {
   "cell_type": "code",
   "execution_count": 35,
   "metadata": {},
   "outputs": [
    {
     "data": {
      "text/plain": [
       "dict_keys([12, 11, 10, 9, 8, 7, 6, 5, 4, 3, 2])"
      ]
     },
     "execution_count": 35,
     "metadata": {},
     "output_type": "execute_result"
    }
   ],
   "source": [
    "months.keys()"
   ]
  },
  {
   "cell_type": "code",
   "execution_count": 36,
   "metadata": {},
   "outputs": [
    {
     "data": {
      "text/plain": [
       "<li><i><a href=\"/wiki/Wikipedia:Requests_for_arbitration/VeryVerily\" title=\"Wikipedia:Requests for arbitration/VeryVerily\">VeryVerily</a></i> - <b>Closed</b> on 27 Dec 2004, in light of <i><a href=\"/wiki/Wikipedia:Requests_for_arbitration/Gzornenplatz,_Kevin_Baas,_Shorne,_VeryVerily\" title=\"Wikipedia:Requests for arbitration/Gzornenplatz, Kevin Baas, Shorne, VeryVerily\">Gzornenplatz, Kevin Baas, Shorne, VeryVerily</a></i>.</li>"
      ]
     },
     "execution_count": 36,
     "metadata": {},
     "output_type": "execute_result"
    }
   ],
   "source": [
    "cases[0]"
   ]
  },
  {
   "cell_type": "code",
   "execution_count": 40,
   "metadata": {},
   "outputs": [
    {
     "data": {
      "text/plain": [
       "['/wiki/Wikipedia:Requests_for_arbitration/VeryVerily',\n",
       " '/wiki/Wikipedia:Requests_for_arbitration/Gzornenplatz,_Kevin_Baas,_Shorne,_VeryVerily']"
      ]
     },
     "execution_count": 40,
     "metadata": {},
     "output_type": "execute_result"
    }
   ],
   "source": [
    "[link.get('href') for link in cases[0].find_all('a')]"
   ]
  },
  {
   "cell_type": "code",
   "execution_count": 37,
   "metadata": {},
   "outputs": [
    {
     "data": {
      "text/plain": [
       "35"
      ]
     },
     "execution_count": 37,
     "metadata": {},
     "output_type": "execute_result"
    }
   ],
   "source": [
    "len(cases)"
   ]
  },
  {
   "cell_type": "code",
   "execution_count": 38,
   "metadata": {},
   "outputs": [
    {
     "data": {
      "text/plain": [
       "<li><i><a href=\"/wiki/Wikipedia:Requests_for_arbitration/Cantus_vs._Guanaco\" title=\"Wikipedia:Requests for arbitration/Cantus vs. Guanaco\">Cantus vs. Guanaco</a></i> - <b>Decided on 24 November, 2004</b>. Cantus is limited to one revert per article per day and prohibited from editing <a href=\"/wiki/Siberia\" title=\"Siberia\">Siberia</a> or <a href=\"/wiki/Clitoris\" title=\"Clitoris\">Clitoris</a>. Guanaco must re-apply for adminship.</li>"
      ]
     },
     "execution_count": 38,
     "metadata": {},
     "output_type": "execute_result"
    }
   ],
   "source": [
    "months[11][0]"
   ]
  },
  {
   "cell_type": "code",
   "execution_count": 45,
   "metadata": {},
   "outputs": [
    {
     "name": "stdout",
     "output_type": "stream",
     "text": [
      "passed on Six cases\n",
      "passed on Eight cases\n",
      "passed on Four cases\n",
      "passed on Four cases\n",
      "passed on Four cases\n",
      "passed on Two cases\n",
      "passed on One case\n",
      "passed on One case\n",
      "passed on One case\n",
      "passed on Three cases\n",
      "passed on One case\n"
     ]
    },
    {
     "ename": "ValueError",
     "evalue": "arrays must all be same length",
     "output_type": "error",
     "traceback": [
      "\u001b[1;31m---------------------------------------------------------------------------\u001b[0m",
      "\u001b[1;31mValueError\u001b[0m                                Traceback (most recent call last)",
      "\u001b[1;32m<ipython-input-45-0f890470d487>\u001b[0m in \u001b[0;36m<module>\u001b[1;34m()\u001b[0m\n\u001b[1;32m----> 1\u001b[1;33m \u001b[0mcdf\u001b[0m \u001b[1;33m=\u001b[0m \u001b[0mpd\u001b[0m\u001b[1;33m.\u001b[0m\u001b[0mDataFrame\u001b[0m\u001b[1;33m(\u001b[0m\u001b[0mget_case_info\u001b[0m\u001b[1;33m(\u001b[0m\u001b[0msoup\u001b[0m\u001b[1;33m)\u001b[0m\u001b[1;33m)\u001b[0m\u001b[1;33m\u001b[0m\u001b[0m\n\u001b[0m",
      "\u001b[1;32m~\\Anaconda3\\lib\\site-packages\\pandas\\core\\frame.py\u001b[0m in \u001b[0;36m__init__\u001b[1;34m(self, data, index, columns, dtype, copy)\u001b[0m\n\u001b[0;32m    346\u001b[0m                                  dtype=dtype, copy=copy)\n\u001b[0;32m    347\u001b[0m         \u001b[1;32melif\u001b[0m \u001b[0misinstance\u001b[0m\u001b[1;33m(\u001b[0m\u001b[0mdata\u001b[0m\u001b[1;33m,\u001b[0m \u001b[0mdict\u001b[0m\u001b[1;33m)\u001b[0m\u001b[1;33m:\u001b[0m\u001b[1;33m\u001b[0m\u001b[0m\n\u001b[1;32m--> 348\u001b[1;33m             \u001b[0mmgr\u001b[0m \u001b[1;33m=\u001b[0m \u001b[0mself\u001b[0m\u001b[1;33m.\u001b[0m\u001b[0m_init_dict\u001b[0m\u001b[1;33m(\u001b[0m\u001b[0mdata\u001b[0m\u001b[1;33m,\u001b[0m \u001b[0mindex\u001b[0m\u001b[1;33m,\u001b[0m \u001b[0mcolumns\u001b[0m\u001b[1;33m,\u001b[0m \u001b[0mdtype\u001b[0m\u001b[1;33m=\u001b[0m\u001b[0mdtype\u001b[0m\u001b[1;33m)\u001b[0m\u001b[1;33m\u001b[0m\u001b[0m\n\u001b[0m\u001b[0;32m    349\u001b[0m         \u001b[1;32melif\u001b[0m \u001b[0misinstance\u001b[0m\u001b[1;33m(\u001b[0m\u001b[0mdata\u001b[0m\u001b[1;33m,\u001b[0m \u001b[0mma\u001b[0m\u001b[1;33m.\u001b[0m\u001b[0mMaskedArray\u001b[0m\u001b[1;33m)\u001b[0m\u001b[1;33m:\u001b[0m\u001b[1;33m\u001b[0m\u001b[0m\n\u001b[0;32m    350\u001b[0m             \u001b[1;32mimport\u001b[0m \u001b[0mnumpy\u001b[0m\u001b[1;33m.\u001b[0m\u001b[0mma\u001b[0m\u001b[1;33m.\u001b[0m\u001b[0mmrecords\u001b[0m \u001b[1;32mas\u001b[0m \u001b[0mmrecords\u001b[0m\u001b[1;33m\u001b[0m\u001b[0m\n",
      "\u001b[1;32m~\\Anaconda3\\lib\\site-packages\\pandas\\core\\frame.py\u001b[0m in \u001b[0;36m_init_dict\u001b[1;34m(self, data, index, columns, dtype)\u001b[0m\n\u001b[0;32m    457\u001b[0m             \u001b[0marrays\u001b[0m \u001b[1;33m=\u001b[0m \u001b[1;33m[\u001b[0m\u001b[0mdata\u001b[0m\u001b[1;33m[\u001b[0m\u001b[0mk\u001b[0m\u001b[1;33m]\u001b[0m \u001b[1;32mfor\u001b[0m \u001b[0mk\u001b[0m \u001b[1;32min\u001b[0m \u001b[0mkeys\u001b[0m\u001b[1;33m]\u001b[0m\u001b[1;33m\u001b[0m\u001b[0m\n\u001b[0;32m    458\u001b[0m \u001b[1;33m\u001b[0m\u001b[0m\n\u001b[1;32m--> 459\u001b[1;33m         \u001b[1;32mreturn\u001b[0m \u001b[0m_arrays_to_mgr\u001b[0m\u001b[1;33m(\u001b[0m\u001b[0marrays\u001b[0m\u001b[1;33m,\u001b[0m \u001b[0mdata_names\u001b[0m\u001b[1;33m,\u001b[0m \u001b[0mindex\u001b[0m\u001b[1;33m,\u001b[0m \u001b[0mcolumns\u001b[0m\u001b[1;33m,\u001b[0m \u001b[0mdtype\u001b[0m\u001b[1;33m=\u001b[0m\u001b[0mdtype\u001b[0m\u001b[1;33m)\u001b[0m\u001b[1;33m\u001b[0m\u001b[0m\n\u001b[0m\u001b[0;32m    460\u001b[0m \u001b[1;33m\u001b[0m\u001b[0m\n\u001b[0;32m    461\u001b[0m     \u001b[1;32mdef\u001b[0m \u001b[0m_init_ndarray\u001b[0m\u001b[1;33m(\u001b[0m\u001b[0mself\u001b[0m\u001b[1;33m,\u001b[0m \u001b[0mvalues\u001b[0m\u001b[1;33m,\u001b[0m \u001b[0mindex\u001b[0m\u001b[1;33m,\u001b[0m \u001b[0mcolumns\u001b[0m\u001b[1;33m,\u001b[0m \u001b[0mdtype\u001b[0m\u001b[1;33m=\u001b[0m\u001b[1;32mNone\u001b[0m\u001b[1;33m,\u001b[0m \u001b[0mcopy\u001b[0m\u001b[1;33m=\u001b[0m\u001b[1;32mFalse\u001b[0m\u001b[1;33m)\u001b[0m\u001b[1;33m:\u001b[0m\u001b[1;33m\u001b[0m\u001b[0m\n",
      "\u001b[1;32m~\\Anaconda3\\lib\\site-packages\\pandas\\core\\frame.py\u001b[0m in \u001b[0;36m_arrays_to_mgr\u001b[1;34m(arrays, arr_names, index, columns, dtype)\u001b[0m\n\u001b[0;32m   7313\u001b[0m     \u001b[1;31m# figure out the index, if necessary\u001b[0m\u001b[1;33m\u001b[0m\u001b[1;33m\u001b[0m\u001b[0m\n\u001b[0;32m   7314\u001b[0m     \u001b[1;32mif\u001b[0m \u001b[0mindex\u001b[0m \u001b[1;32mis\u001b[0m \u001b[1;32mNone\u001b[0m\u001b[1;33m:\u001b[0m\u001b[1;33m\u001b[0m\u001b[0m\n\u001b[1;32m-> 7315\u001b[1;33m         \u001b[0mindex\u001b[0m \u001b[1;33m=\u001b[0m \u001b[0mextract_index\u001b[0m\u001b[1;33m(\u001b[0m\u001b[0marrays\u001b[0m\u001b[1;33m)\u001b[0m\u001b[1;33m\u001b[0m\u001b[0m\n\u001b[0m\u001b[0;32m   7316\u001b[0m \u001b[1;33m\u001b[0m\u001b[0m\n\u001b[0;32m   7317\u001b[0m     \u001b[1;31m# don't force copy because getting jammed in an ndarray anyway\u001b[0m\u001b[1;33m\u001b[0m\u001b[1;33m\u001b[0m\u001b[0m\n",
      "\u001b[1;32m~\\Anaconda3\\lib\\site-packages\\pandas\\core\\frame.py\u001b[0m in \u001b[0;36mextract_index\u001b[1;34m(data)\u001b[0m\n\u001b[0;32m   7359\u001b[0m             \u001b[0mlengths\u001b[0m \u001b[1;33m=\u001b[0m \u001b[0mlist\u001b[0m\u001b[1;33m(\u001b[0m\u001b[0mset\u001b[0m\u001b[1;33m(\u001b[0m\u001b[0mraw_lengths\u001b[0m\u001b[1;33m)\u001b[0m\u001b[1;33m)\u001b[0m\u001b[1;33m\u001b[0m\u001b[0m\n\u001b[0;32m   7360\u001b[0m             \u001b[1;32mif\u001b[0m \u001b[0mlen\u001b[0m\u001b[1;33m(\u001b[0m\u001b[0mlengths\u001b[0m\u001b[1;33m)\u001b[0m \u001b[1;33m>\u001b[0m \u001b[1;36m1\u001b[0m\u001b[1;33m:\u001b[0m\u001b[1;33m\u001b[0m\u001b[0m\n\u001b[1;32m-> 7361\u001b[1;33m                 \u001b[1;32mraise\u001b[0m \u001b[0mValueError\u001b[0m\u001b[1;33m(\u001b[0m\u001b[1;34m'arrays must all be same length'\u001b[0m\u001b[1;33m)\u001b[0m\u001b[1;33m\u001b[0m\u001b[0m\n\u001b[0m\u001b[0;32m   7362\u001b[0m \u001b[1;33m\u001b[0m\u001b[0m\n\u001b[0;32m   7363\u001b[0m             \u001b[1;32mif\u001b[0m \u001b[0mhave_dicts\u001b[0m\u001b[1;33m:\u001b[0m\u001b[1;33m\u001b[0m\u001b[0m\n",
      "\u001b[1;31mValueError\u001b[0m: arrays must all be same length"
     ]
    }
   ],
   "source": [
    "cdf = pd.DataFrame(get_case_info(soup))"
   ]
  },
  {
   "cell_type": "code",
   "execution_count": null,
   "metadata": {},
   "outputs": [],
   "source": []
  }
 ],
 "metadata": {
  "kernelspec": {
   "display_name": "Python 3",
   "language": "python",
   "name": "python3"
  },
  "language_info": {
   "codemirror_mode": {
    "name": "ipython",
    "version": 3
   },
   "file_extension": ".py",
   "mimetype": "text/x-python",
   "name": "python",
   "nbconvert_exporter": "python",
   "pygments_lexer": "ipython3",
   "version": "3.6.5"
  }
 },
 "nbformat": 4,
 "nbformat_minor": 2
}
